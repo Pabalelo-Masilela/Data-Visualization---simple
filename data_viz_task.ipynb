{
 "cells": [
  {
   "attachments": {},
   "cell_type": "markdown",
   "metadata": {},
   "source": [
    "# Data visualisation task "
   ]
  },
  {
   "attachments": {},
   "cell_type": "markdown",
   "metadata": {},
   "source": [
    "**Additional information**  \n",
    "[Cars93 metadata](https://jse.amstat.org/v1n1/datasets.lock.html) "
   ]
  },
  {
   "cell_type": "code",
   "execution_count": null,
   "metadata": {},
   "outputs": [],
   "source": [
    "'''Open the Jupyter notebook named data_viz_task.ipynb.\n",
    "    Generate the following graphs from the Cars93.csv dataset. Then, answer\n",
    "    the accompanying questions in the markdown cells in the notebook:\n",
    "    A box plot for the revs per mile for the Audi, Hyundai, Suzuki, and Toyota car manufacturers. Which of these manufacturers has the car\n",
    "    with the highest revs per mile?\n",
    "    histogram of MPG in the city. On the same axis, show a histogram of\n",
    "    MPG on the highway. Is it generally more fuel efficient to drive in the\n",
    "    city or on the highway?\n",
    "    A lineplot showing the relationship between the ‘Wheelbase’ and\n",
    "    ‘turning circle’. What is this relationship? What happens when the\n",
    "    wheelbase gets larger?\n",
    "    A bar plot showing the mean horsepower for each car Type (Small,\n",
    "    Midsize, etc.). Does a larger car mean more horsepower?'''\n",
    "\n",
    "# Import libraries\n",
    "import pandas as pd\n",
    "import matplotlib.pyplot as plt\n",
    "import seaborn as sns"
   ]
  },
  {
   "cell_type": "code",
   "execution_count": null,
   "metadata": {},
   "outputs": [],
   "source": [
    "# Load data\n",
    "df = pd.read_csv('Cars93.csv', sep = ',', quotechar= '\"')"
   ]
  },
  {
   "attachments": {},
   "cell_type": "markdown",
   "metadata": {},
   "source": [
    "### 1. Boxplot"
   ]
  },
  {
   "cell_type": "code",
   "execution_count": null,
   "metadata": {},
   "outputs": [],
   "source": [
    "# Boxplot for revs per mile\n",
    "filter_manufacturers = [\"Audi\", \"Hyundai\", \"Suzuki\", \"Toyota\"]\n",
    "filter_data = df[df['Manufacturer'].isin(filter_manufacturers)]\n",
    "sns.set(style = \"whitegrid\")\n",
    "plt.figure()\n",
    "sns.boxplot(x = 'Manufacturer', y = 'Rev.per.mile', data = filter_data)\n",
    "plt.title('Box plot on Revs per mile for selected car manufacturers')\n",
    "plt.show()\n",
    "\n",
    "# Highest rev per mile = Toyota\n"
   ]
  },
  {
   "attachments": {},
   "cell_type": "markdown",
   "metadata": {},
   "source": [
    "**Boxplot question:**  \n",
    "Which of these manufacturers has the car with the highest revs per mile?\n"
   ]
  },
  {
   "attachments": {},
   "cell_type": "markdown",
   "metadata": {},
   "source": [
    "**Boxplot answer:**\n"
   ]
  },
  {
   "attachments": {},
   "cell_type": "markdown",
   "metadata": {},
   "source": [
    "### 2. Histogram"
   ]
  },
  {
   "cell_type": "code",
   "execution_count": null,
   "metadata": {},
   "outputs": [],
   "source": [
    "# Histogram of MPG\n",
    "plt.hist(df['MPG.city'], bins=20, alpha=0.5, label='City MPG')\n",
    "plt.hist(df['MPG.highway'], bins=20, alpha=0.5, label='Highway MPG')\n",
    "\n",
    "# Add labels and title\n",
    "plt.xlabel('Miles Per Gallon (MPG)')\n",
    "plt.ylabel('Frequency')\n",
    "plt.title('City and Highway MPG Distribution')\n",
    "\n",
    "# Add legend\n",
    "plt.legend()\n",
    "\n",
    "# Show the plot\n",
    "plt.show()\n",
    "# Fuel efficient = On the highway"
   ]
  },
  {
   "attachments": {},
   "cell_type": "markdown",
   "metadata": {},
   "source": [
    "**Histogram question:**  \n",
    "Is it generally more fuel efficient to drive in the city or on the highway?"
   ]
  },
  {
   "attachments": {},
   "cell_type": "markdown",
   "metadata": {},
   "source": [
    "**Histogram answer:**"
   ]
  },
  {
   "attachments": {},
   "cell_type": "markdown",
   "metadata": {},
   "source": [
    "### 3. Lineplot"
   ]
  },
  {
   "cell_type": "code",
   "execution_count": null,
   "metadata": {},
   "outputs": [],
   "source": [
    "# Lineplot (Wheelbase vs turning circle)\n",
    "sns.lineplot(x='Wheelbase', y='Turn.circle', data=df)\n",
    "\n",
    "# Set plot labels and title\n",
    "plt.xlabel('Wheelbase')\n",
    "plt.ylabel('Turning Circle')\n",
    "plt.title('Relationship between Wheelbase and Turning Circle')\n",
    "\n",
    "# Show the plot\n",
    "plt.show()\n",
    "\n",
    "# An increase in wheel base requires more of a turn circle radius\n",
    "\n"
   ]
  },
  {
   "attachments": {},
   "cell_type": "markdown",
   "metadata": {},
   "source": [
    "**Lineplot question:**  \n",
    "What is this relationship? What happens when the wheelbase gets larger?\n"
   ]
  },
  {
   "attachments": {},
   "cell_type": "markdown",
   "metadata": {},
   "source": [
    "**Lineplot answer:**  \n"
   ]
  },
  {
   "attachments": {},
   "cell_type": "markdown",
   "metadata": {},
   "source": [
    "### 4. Barplot"
   ]
  },
  {
   "cell_type": "code",
   "execution_count": null,
   "metadata": {},
   "outputs": [],
   "source": [
    "# Barplot for mean horsepower\n",
    "sns.barplot(x='Type', y='Horsepower', data=df, ci= None)\n",
    "\n",
    "# Add labels and title\n",
    "plt.xlabel('Car Type')\n",
    "plt.ylabel('Mean Horsepower')\n",
    "plt.title('Mean Horsepower for Each Car Type')\n",
    "\n",
    "# Show the plot\n",
    "plt.show()\n",
    "\n",
    "# A larger car generally shows more horse power with an exception of the sporty.``"
   ]
  },
  {
   "attachments": {},
   "cell_type": "markdown",
   "metadata": {},
   "source": [
    "**Barplot question:**  \n",
    "Does a larger car mean more horsepower?\n",
    "\n"
   ]
  },
  {
   "attachments": {},
   "cell_type": "markdown",
   "metadata": {},
   "source": [
    "**Barplot answer:**"
   ]
  }
 ],
 "metadata": {
  "kernelspec": {
   "display_name": "Python 3",
   "language": "python",
   "name": "python3"
  },
  "language_info": {
   "name": "python",
   "version": "3.11.4"
  },
  "orig_nbformat": 4
 },
 "nbformat": 4,
 "nbformat_minor": 2
}
